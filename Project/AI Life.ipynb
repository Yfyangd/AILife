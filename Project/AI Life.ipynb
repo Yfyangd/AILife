{
 "cells": [
  {
   "cell_type": "code",
   "execution_count": 1,
   "metadata": {},
   "outputs": [
    {
     "name": "stdout",
     "output_type": "stream",
     "text": [
      "[[0. 0. 0. 0. 0. 0. 0.]\n",
      " [0. 0. 0. 0. 0. 0. 0.]\n",
      " [0. 1. 1. 1. 1. 0. 0.]\n",
      " [0. 0. 0. 0. 0. 0. 0.]\n",
      " [0. 0. 0. 0. 0. 0. 0.]\n",
      " [0. 0. 0. 0. 0. 0. 0.]\n",
      " [0. 0. 0. 0. 0. 0. 0.]]\n"
     ]
    }
   ],
   "source": [
    "import numpy as np\n",
    "x=np.zeros((7,7))\n",
    "x2=np.zeros((7,7))\n",
    "x[2,1]=1\n",
    "x[2,2]=1\n",
    "x[2,3]=1\n",
    "x[2,4]=1\n",
    "print(x)"
   ]
  },
  {
   "cell_type": "code",
   "execution_count": 2,
   "metadata": {},
   "outputs": [
    {
     "data": {
      "text/plain": [
       "(7, 7)"
      ]
     },
     "execution_count": 2,
     "metadata": {},
     "output_type": "execute_result"
    }
   ],
   "source": [
    "n=x.shape[0];m=x.shape[1]\n",
    "n,m"
   ]
  },
  {
   "cell_type": "code",
   "execution_count": 5,
   "metadata": {},
   "outputs": [],
   "source": [
    "def alive(x,i,j):\n",
    "    if(i>=0):\n",
    "        if(i<=n-1):\n",
    "            if(j>=0):\n",
    "                if(j<=m-1):\n",
    "                    return x[i,j]\n",
    "    if(i<0):\n",
    "        return 0\n",
    "    if(j<0):\n",
    "        return 0\n",
    "    if(i>n-1):\n",
    "        return 0\n",
    "    if(j>m-1):\n",
    "        return 0"
   ]
  },
  {
   "cell_type": "code",
   "execution_count": 7,
   "metadata": {},
   "outputs": [],
   "source": [
    "def play(x,n,m):\n",
    "    #x2=np.zeros((11,11))\n",
    "    #n,m=x.shape[0],x.shape[1]\n",
    "    for i in range(n):\n",
    "        for j in range(m):\n",
    "            s = alive(x,i+1,j)+alive(x,i+1,j+1)+alive(x,i+1,j-1)+alive(x,i,j-1)+alive(x,i,j+1)+alive(x,i-1,j)+alive(x,i-1,j-1)+alive(x,i-1,j+1)\n",
    "            s = int(s)\n",
    "            x2[i,j] = s\n",
    "        \n",
    "    for i in range(n):\n",
    "        for j in range(m):\n",
    "            if(x[i,j]==1):\n",
    "                if(x2[i,j]!=2):\n",
    "                    if(x2[i,j]!=3):\n",
    "                        x[i,j]=0\n",
    "\n",
    "    for i in range(n):\n",
    "        for j in range(m):\n",
    "            if(x[i,j]==0):\n",
    "                if(x2[i,j]==3):\n",
    "                    x[i,j]=1\n",
    "    return(x)"
   ]
  },
  {
   "cell_type": "code",
   "execution_count": 8,
   "metadata": {},
   "outputs": [
    {
     "name": "stdout",
     "output_type": "stream",
     "text": [
      "Generation:  0\n",
      "[[0. 0. 0. 0. 0. 0. 0.]\n",
      " [0. 0. 0. 0. 0. 0. 0.]\n",
      " [0. 1. 1. 1. 1. 0. 0.]\n",
      " [0. 0. 0. 0. 0. 0. 0.]\n",
      " [0. 0. 0. 0. 0. 0. 0.]\n",
      " [0. 0. 0. 0. 0. 0. 0.]\n",
      " [0. 0. 0. 0. 0. 0. 0.]]\n",
      "Generation:  1\n",
      "[[0. 0. 0. 0. 0. 0. 0.]\n",
      " [0. 0. 1. 1. 0. 0. 0.]\n",
      " [0. 0. 1. 1. 0. 0. 0.]\n",
      " [0. 0. 1. 1. 0. 0. 0.]\n",
      " [0. 0. 0. 0. 0. 0. 0.]\n",
      " [0. 0. 0. 0. 0. 0. 0.]\n",
      " [0. 0. 0. 0. 0. 0. 0.]]\n",
      "Generation:  2\n",
      "[[0. 0. 0. 0. 0. 0. 0.]\n",
      " [0. 0. 1. 1. 0. 0. 0.]\n",
      " [0. 1. 0. 0. 1. 0. 0.]\n",
      " [0. 0. 1. 1. 0. 0. 0.]\n",
      " [0. 0. 0. 0. 0. 0. 0.]\n",
      " [0. 0. 0. 0. 0. 0. 0.]\n",
      " [0. 0. 0. 0. 0. 0. 0.]]\n",
      "Generation:  3\n",
      "[[0. 0. 0. 0. 0. 0. 0.]\n",
      " [0. 0. 1. 1. 0. 0. 0.]\n",
      " [0. 1. 0. 0. 1. 0. 0.]\n",
      " [0. 0. 1. 1. 0. 0. 0.]\n",
      " [0. 0. 0. 0. 0. 0. 0.]\n",
      " [0. 0. 0. 0. 0. 0. 0.]\n",
      " [0. 0. 0. 0. 0. 0. 0.]]\n",
      "Generation:  4\n",
      "[[0. 0. 0. 0. 0. 0. 0.]\n",
      " [0. 0. 1. 1. 0. 0. 0.]\n",
      " [0. 1. 0. 0. 1. 0. 0.]\n",
      " [0. 0. 1. 1. 0. 0. 0.]\n",
      " [0. 0. 0. 0. 0. 0. 0.]\n",
      " [0. 0. 0. 0. 0. 0. 0.]\n",
      " [0. 0. 0. 0. 0. 0. 0.]]\n",
      "Generation:  5\n",
      "[[0. 0. 0. 0. 0. 0. 0.]\n",
      " [0. 0. 1. 1. 0. 0. 0.]\n",
      " [0. 1. 0. 0. 1. 0. 0.]\n",
      " [0. 0. 1. 1. 0. 0. 0.]\n",
      " [0. 0. 0. 0. 0. 0. 0.]\n",
      " [0. 0. 0. 0. 0. 0. 0.]\n",
      " [0. 0. 0. 0. 0. 0. 0.]]\n",
      "Generation:  6\n",
      "[[0. 0. 0. 0. 0. 0. 0.]\n",
      " [0. 0. 1. 1. 0. 0. 0.]\n",
      " [0. 1. 0. 0. 1. 0. 0.]\n",
      " [0. 0. 1. 1. 0. 0. 0.]\n",
      " [0. 0. 0. 0. 0. 0. 0.]\n",
      " [0. 0. 0. 0. 0. 0. 0.]\n",
      " [0. 0. 0. 0. 0. 0. 0.]]\n",
      "Generation:  7\n",
      "[[0. 0. 0. 0. 0. 0. 0.]\n",
      " [0. 0. 1. 1. 0. 0. 0.]\n",
      " [0. 1. 0. 0. 1. 0. 0.]\n",
      " [0. 0. 1. 1. 0. 0. 0.]\n",
      " [0. 0. 0. 0. 0. 0. 0.]\n",
      " [0. 0. 0. 0. 0. 0. 0.]\n",
      " [0. 0. 0. 0. 0. 0. 0.]]\n",
      "Generation:  8\n",
      "[[0. 0. 0. 0. 0. 0. 0.]\n",
      " [0. 0. 1. 1. 0. 0. 0.]\n",
      " [0. 1. 0. 0. 1. 0. 0.]\n",
      " [0. 0. 1. 1. 0. 0. 0.]\n",
      " [0. 0. 0. 0. 0. 0. 0.]\n",
      " [0. 0. 0. 0. 0. 0. 0.]\n",
      " [0. 0. 0. 0. 0. 0. 0.]]\n",
      "Generation:  9\n",
      "[[0. 0. 0. 0. 0. 0. 0.]\n",
      " [0. 0. 1. 1. 0. 0. 0.]\n",
      " [0. 1. 0. 0. 1. 0. 0.]\n",
      " [0. 0. 1. 1. 0. 0. 0.]\n",
      " [0. 0. 0. 0. 0. 0. 0.]\n",
      " [0. 0. 0. 0. 0. 0. 0.]\n",
      " [0. 0. 0. 0. 0. 0. 0.]]\n"
     ]
    }
   ],
   "source": [
    "for i in range(10):\n",
    "    print(\"Generation: \",i)\n",
    "    print(x)\n",
    "    x=play(x,n,m)"
   ]
  },
  {
   "cell_type": "code",
   "execution_count": 9,
   "metadata": {},
   "outputs": [],
   "source": [
    "import numpy as np\n",
    "x=np.zeros((11,11))\n",
    "x2=np.zeros((11,11))\n",
    "x[2,5]=1\n",
    "x[3,4]=1;x[3,5]=1;x[3,6]=1\n",
    "x[4,3]=1;x[4,4]=1;x[4,5]=1;x[4,6]=1;x[4,7]=1\n",
    "x[5,2]=1;x[5,3]=1;x[5,4]=1;x[5,5]=1;x[5,6]=1;x[5,7]=1;x[5,8]=1\n",
    "x[6,3]=1;x[6,4]=1;x[6,5]=1;x[6,6]=1;x[6,7]=1\n",
    "x[7,4]=1;x[7,5]=1;x[7,6]=1\n",
    "x[8,5]=1"
   ]
  },
  {
   "cell_type": "code",
   "execution_count": 11,
   "metadata": {},
   "outputs": [
    {
     "name": "stdout",
     "output_type": "stream",
     "text": [
      "Generation:  0\n",
      "[[0. 0. 0. 0. 1. 1. 1. 0. 0. 0. 0.]\n",
      " [0. 0. 0. 1. 0. 0. 0. 1. 0. 0. 0.]\n",
      " [0. 0. 0. 1. 0. 0. 0. 1. 0. 0. 0.]\n",
      " [0. 1. 1. 0. 0. 0. 0. 0. 1. 1. 0.]\n",
      " [1. 0. 0. 0. 0. 1. 0. 0. 0. 0. 1.]\n",
      " [1. 0. 0. 0. 1. 0. 1. 0. 0. 0. 1.]\n",
      " [1. 0. 0. 0. 0. 1. 0. 0. 0. 0. 1.]\n",
      " [0. 1. 1. 0. 0. 0. 0. 0. 1. 1. 0.]\n",
      " [0. 0. 0. 1. 0. 0. 0. 1. 0. 0. 0.]\n",
      " [0. 0. 0. 1. 0. 0. 0. 1. 0. 0. 0.]\n",
      " [0. 0. 0. 0. 1. 1. 1. 0. 0. 0. 0.]]\n",
      "Generation:  1\n",
      "[[0. 0. 0. 0. 1. 1. 1. 0. 0. 0. 0.]\n",
      " [0. 0. 0. 1. 0. 1. 0. 1. 0. 0. 0.]\n",
      " [0. 0. 0. 1. 0. 0. 0. 1. 0. 0. 0.]\n",
      " [0. 1. 1. 0. 0. 0. 0. 0. 1. 1. 0.]\n",
      " [1. 0. 0. 0. 0. 1. 0. 0. 0. 0. 1.]\n",
      " [1. 1. 0. 0. 1. 0. 1. 0. 0. 1. 1.]\n",
      " [1. 0. 0. 0. 0. 1. 0. 0. 0. 0. 1.]\n",
      " [0. 1. 1. 0. 0. 0. 0. 0. 1. 1. 0.]\n",
      " [0. 0. 0. 1. 0. 0. 0. 1. 0. 0. 0.]\n",
      " [0. 0. 0. 1. 0. 1. 0. 1. 0. 0. 0.]\n",
      " [0. 0. 0. 0. 1. 1. 1. 0. 0. 0. 0.]]\n",
      "Generation:  2\n",
      "[[0. 0. 0. 0. 1. 1. 1. 0. 0. 0. 0.]\n",
      " [0. 0. 0. 1. 0. 1. 0. 1. 0. 0. 0.]\n",
      " [0. 0. 0. 1. 1. 0. 1. 1. 0. 0. 0.]\n",
      " [0. 1. 1. 0. 0. 0. 0. 0. 1. 1. 0.]\n",
      " [1. 0. 1. 0. 0. 1. 0. 0. 1. 0. 1.]\n",
      " [1. 1. 0. 0. 1. 0. 1. 0. 0. 1. 1.]\n",
      " [1. 0. 1. 0. 0. 1. 0. 0. 1. 0. 1.]\n",
      " [0. 1. 1. 0. 0. 0. 0. 0. 1. 1. 0.]\n",
      " [0. 0. 0. 1. 1. 0. 1. 1. 0. 0. 0.]\n",
      " [0. 0. 0. 1. 0. 1. 0. 1. 0. 0. 0.]\n",
      " [0. 0. 0. 0. 1. 1. 1. 0. 0. 0. 0.]]\n",
      "Generation:  3\n",
      "[[0. 0. 0. 0. 1. 1. 1. 0. 0. 0. 0.]\n",
      " [0. 0. 0. 1. 0. 0. 0. 1. 0. 0. 0.]\n",
      " [0. 0. 0. 1. 1. 1. 1. 1. 0. 0. 0.]\n",
      " [0. 1. 1. 0. 1. 1. 1. 0. 1. 1. 0.]\n",
      " [1. 0. 1. 1. 0. 1. 0. 1. 1. 0. 1.]\n",
      " [1. 0. 1. 1. 1. 0. 1. 1. 1. 0. 1.]\n",
      " [1. 0. 1. 1. 0. 1. 0. 1. 1. 0. 1.]\n",
      " [0. 1. 1. 0. 1. 1. 1. 0. 1. 1. 0.]\n",
      " [0. 0. 0. 1. 1. 1. 1. 1. 0. 0. 0.]\n",
      " [0. 0. 0. 1. 0. 0. 0. 1. 0. 0. 0.]\n",
      " [0. 0. 0. 0. 1. 1. 1. 0. 0. 0. 0.]]\n",
      "Generation:  4\n",
      "[[0. 0. 0. 0. 1. 1. 1. 0. 0. 0. 0.]\n",
      " [0. 0. 0. 1. 0. 0. 0. 1. 0. 0. 0.]\n",
      " [0. 0. 0. 0. 0. 0. 0. 0. 0. 0. 0.]\n",
      " [0. 1. 0. 0. 0. 0. 0. 0. 0. 1. 0.]\n",
      " [1. 0. 0. 0. 0. 0. 0. 0. 0. 0. 1.]\n",
      " [1. 0. 0. 0. 0. 0. 0. 0. 0. 0. 1.]\n",
      " [1. 0. 0. 0. 0. 0. 0. 0. 0. 0. 1.]\n",
      " [0. 1. 0. 0. 0. 0. 0. 0. 0. 1. 0.]\n",
      " [0. 0. 0. 0. 0. 0. 0. 0. 0. 0. 0.]\n",
      " [0. 0. 0. 1. 0. 0. 0. 1. 0. 0. 0.]\n",
      " [0. 0. 0. 0. 1. 1. 1. 0. 0. 0. 0.]]\n",
      "Generation:  5\n",
      "[[0. 0. 0. 0. 1. 1. 1. 0. 0. 0. 0.]\n",
      " [0. 0. 0. 0. 1. 1. 1. 0. 0. 0. 0.]\n",
      " [0. 0. 0. 0. 0. 0. 0. 0. 0. 0. 0.]\n",
      " [0. 0. 0. 0. 0. 0. 0. 0. 0. 0. 0.]\n",
      " [1. 1. 0. 0. 0. 0. 0. 0. 0. 1. 1.]\n",
      " [1. 1. 0. 0. 0. 0. 0. 0. 0. 1. 1.]\n",
      " [1. 1. 0. 0. 0. 0. 0. 0. 0. 1. 1.]\n",
      " [0. 0. 0. 0. 0. 0. 0. 0. 0. 0. 0.]\n",
      " [0. 0. 0. 0. 0. 0. 0. 0. 0. 0. 0.]\n",
      " [0. 0. 0. 0. 1. 1. 1. 0. 0. 0. 0.]\n",
      " [0. 0. 0. 0. 1. 1. 1. 0. 0. 0. 0.]]\n"
     ]
    }
   ],
   "source": [
    "for i in range(6):\n",
    "    print(\"Generation: \",i)\n",
    "    print(x)\n",
    "    n,m=x.shape[0],x.shape[1]\n",
    "    x=play(x,n,m)"
   ]
  },
  {
   "cell_type": "code",
   "execution_count": 67,
   "metadata": {},
   "outputs": [
    {
     "data": {
      "text/plain": [
       "array([[0., 0., 0., 1., 3., 3., 3., 1., 0., 0., 0.],\n",
       "       [0., 0., 1., 3., 5., 6., 5., 3., 1., 0., 0.],\n",
       "       [0., 1., 2., 3., 4., 5., 4., 3., 2., 1., 0.],\n",
       "       [1., 3., 3., 4., 4., 4., 4., 4., 3., 3., 1.],\n",
       "       [3., 5., 4., 4., 2., 2., 2., 4., 4., 5., 3.],\n",
       "       [3., 6., 5., 4., 2., 4., 2., 4., 5., 6., 3.],\n",
       "       [3., 5., 4., 4., 2., 2., 2., 4., 4., 5., 3.],\n",
       "       [1., 3., 3., 4., 4., 4., 4., 4., 3., 3., 1.],\n",
       "       [0., 1., 2., 3., 4., 5., 4., 3., 2., 1., 0.],\n",
       "       [0., 0., 1., 3., 5., 6., 5., 3., 1., 0., 0.],\n",
       "       [0., 0., 0., 1., 3., 3., 3., 1., 0., 0., 0.]])"
      ]
     },
     "execution_count": 67,
     "metadata": {},
     "output_type": "execute_result"
    }
   ],
   "source": [
    "x2"
   ]
  },
  {
   "cell_type": "code",
   "execution_count": 12,
   "metadata": {},
   "outputs": [
    {
     "data": {
      "image/png": "[encoded data removed]",
      "text/plain": [
       "<Figure size 720x576 with 10 Axes>"
      ]
     },
     "metadata": {},
     "output_type": "display_data"
    }
   ],
   "source": [
    "import numpy as np\n",
    "import cv2\n",
    "import matplotlib.pyplot as plt\n",
    "%matplotlib inline\n",
    "\n",
    "x=np.zeros((11,11))\n",
    "x2=np.zeros((11,11))\n",
    "x[2,5]=1\n",
    "x[3,4]=1;x[3,5]=1;x[3,6]=1\n",
    "x[4,3]=1;x[4,4]=1;x[4,5]=1;x[4,6]=1;x[4,7]=1\n",
    "x[5,2]=1;x[5,3]=1;x[5,4]=1;x[5,5]=1;x[5,6]=1;x[5,7]=1;x[5,8]=1\n",
    "x[6,3]=1;x[6,4]=1;x[6,5]=1;x[6,6]=1;x[6,7]=1\n",
    "x[7,4]=1;x[7,5]=1;x[7,6]=1\n",
    "x[8,5]=1\n",
    "\n",
    "plt.subplots(figsize=(10,8))\n",
    "for i in range(10):\n",
    "    plt.subplot(2,5,i+1),plt.imshow(x,'gray')\n",
    "    plt.title(\"Generation: \"+str(i))\n",
    "    plt.xticks([]),plt.yticks([])\n",
    "    n,m=x.shape[0],x.shape[1]\n",
    "    x=play(x,n,m)"
   ]
  },
  {
   "cell_type": "code",
   "execution_count": null,
   "metadata": {},
   "outputs": [],
   "source": []
  },
  {
   "cell_type": "code",
   "execution_count": null,
   "metadata": {},
   "outputs": [],
   "source": []
  },
  {
   "cell_type": "code",
   "execution_count": null,
   "metadata": {},
   "outputs": [],
   "source": [
    "import numpy as np\n",
    "x=np.zeros((10,10))\n",
    "x2=np.zeros((10,10))\n",
    "x[2,1]=1;x[2,2]=1;x[2,3]=1;x[2,4]=1\n",
    "\n",
    "def play(x,n,m):\n",
    "    # plz write your code here\n",
    "    \n",
    "    # plz write your code here\n",
    "\n",
    "for i in range(10):\n",
    "    print(\"play: \",i)\n",
    "    print(x)\n",
    "    x=play(x,n,m)"
   ]
  }
 ],
 "metadata": {
  "kernelspec": {
   "display_name": "Python 3",
   "language": "python",
   "name": "python3"
  },
  "language_info": {
   "codemirror_mode": {
    "name": "ipython",
    "version": 3
   },
   "file_extension": ".py",
   "mimetype": "text/x-python",
   "name": "python",
   "nbconvert_exporter": "python",
   "pygments_lexer": "ipython3",
   "version": "3.7.4"
  }
 },
 "nbformat": 4,
 "nbformat_minor": 2
}
